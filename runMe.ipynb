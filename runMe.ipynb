{
 "cells": [
  {
   "cell_type": "markdown",
   "metadata": {},
   "source": [
    "# Search: Solving a Maze Using a Goal-based Agent\n",
    "\n",
    "## Instructions\n",
    "\n",
    "Total Points: Undergrads 100 / Graduate students 110\n",
    "\n",
    "Complete this notebook. Use the provided notebook cells and insert additional code and markdown cells as needed. Submit the completely rendered notebook as a PDF file. \n",
    "\n",
    "\n",
    "## Introduction\n",
    "\n",
    "The agent has a map of the maze it is in and the environment is assumed to be **deterministic, discrete, and known.** The agent must use the map to plan a path through the maze from the starting location $S$ to the goal location $G$.  This is a planing exercise for a goal-based agent, so you do not need to implement an environment, just use the map to search for a path. Once the plan is made, the agent in a deterministic environment (i.e., the transition function is deterministic with the outcome of each state/action pair fixed and no randomness) can just follow the path and does not need to care about the percepts.\n",
    "This is also called an **[open-loop system](https://en.wikipedia.org/wiki/Open-loop_controller).**\n",
    "The execution phase is trivial and we do not implement it in this exercise.\n",
    "\n",
    "Tree search algorithm implementations that you find online and used in general algorithms courses have often a different aim. These algorithms assume that you already have a tree in memory. We are interested in dynamically creating a search tree with the aim of finding a good/the best path from the root noteto the goal state. Follow the pseudo code presented in the text book (and replicated in the slides) closely. Ideally, we would like to search only a small part of the maze, i.e., create a search tree with as few nodes as possible. \n",
    "\n",
    "Several mazes for this exercise are stored as text files. Here is the small example maze:"
   ]
  },
  {
   "cell_type": "code",
   "execution_count": 383,
   "metadata": {},
   "outputs": [
    {
     "name": "stdout",
     "output_type": "stream",
     "text": [
      "XXXXXXXXXXXXXXXXXXXXXX\n",
      "X XX        X X      X\n",
      "X    XXXXXX X XXXXXX X\n",
      "XXXXXX     S  X      X\n",
      "X    X XXXXXX XX XXXXX\n",
      "X XXXX X         X   X\n",
      "X        XXX XXX   X X\n",
      "XXXXXXXXXX    XXXXXX X\n",
      "XG         XX        X\n",
      "XXXXXXXXXXXXXXXXXXXXXX\n",
      "\n"
     ]
    }
   ],
   "source": [
    "with open(\"small_maze.txt\", \"r\") as f:\n",
    "    maze_str = f.read()\n",
    "print(maze_str)"
   ]
  },
  {
   "cell_type": "markdown",
   "metadata": {},
   "source": [
    "__Note:__ The mazes above contains cycles and therefore the state space may not form proper trees unless cycles are prevented. Therfore, you will need to deal with cycle detection in your code."
   ]
  },
  {
   "cell_type": "markdown",
   "metadata": {},
   "source": [
    "## Parsing and pretty printing the maze\n",
    "\n",
    "The maze can also be displayed in color using code in the module [maze_helper.py](maze_helper.py). The code parses the string representing the maze and converts it into a `numpy` 2d array which you can use in your implementation. Position are represented as a 2-tuple of the form `(row, col)`. "
   ]
  },
  {
   "cell_type": "code",
   "execution_count": 384,
   "metadata": {
    "tags": []
   },
   "outputs": [
    {
     "name": "stdout",
     "output_type": "stream",
     "text": [
      "Position(0,0): X\n",
      "Position(8,1): G\n"
     ]
    }
   ],
   "source": [
    "import maze_helper as mh\n",
    "\n",
    "maze = mh.parse_maze(maze_str)\n",
    "\n",
    "# look at a position in the maze by subsetting the 2d array\n",
    "print(\"Position(0,0):\", maze[0, 0])\n",
    "\n",
    "# there is also a helper function called `look(maze, pos)` available\n",
    "# which uses a 2-tuple for the position.\n",
    "print(\"Position(8,1):\", mh.look(maze, (8, 1)))"
   ]
  },
  {
   "cell_type": "markdown",
   "metadata": {},
   "source": [
    "A helper function to visualize the maze is also available."
   ]
  },
  {
   "cell_type": "code",
   "execution_count": 385,
   "metadata": {},
   "outputs": [
    {
     "data": {
      "image/png": "[encoded data removed]",
      "text/plain": [
       "<Figure size 432x288 with 1 Axes>"
      ]
     },
     "metadata": {
      "image/png": {
       "height": 183,
       "width": 362
      },
      "needs_background": "light"
     },
     "output_type": "display_data"
    }
   ],
   "source": [
    "%matplotlib inline\n",
    "%config InlineBackend.figure_format = 'retina'\n",
    "# use higher resolution images in notebook\n",
    "\n",
    "mh.show_maze(maze)"
   ]
  },
  {
   "cell_type": "markdown",
   "metadata": {},
   "source": [
    "Find the position of the start and the goal using the helper function `find_pos()`"
   ]
  },
  {
   "cell_type": "code",
   "execution_count": 386,
   "metadata": {},
   "outputs": [
    {
     "name": "stdout",
     "output_type": "stream",
     "text": [
      "Start location: (3, 11)\n",
      "Goal location: (8, 1)\n"
     ]
    }
   ],
   "source": [
    "print(\"Start location:\", mh.find_pos(maze, what = \"S\"))\n",
    "print(\"Goal location:\", mh.find_pos(maze, what = \"G\"))"
   ]
  },
  {
   "cell_type": "markdown",
   "metadata": {},
   "source": [
    "Helper function documentation."
   ]
  },
  {
   "cell_type": "code",
   "execution_count": 387,
   "metadata": {},
   "outputs": [
    {
     "name": "stdout",
     "output_type": "stream",
     "text": [
      "Help on module maze_helper:\n",
      "\n",
      "NAME\n",
      "    maze_helper\n",
      "\n",
      "DESCRIPTION\n",
      "    Code for the Maze Assignment by Michael Hahsler\n",
      "    Usage: \n",
      "        import maze_helper as mh\n",
      "        mh.show_some_mazes()\n",
      "\n",
      "FUNCTIONS\n",
      "    find_pos(maze, what='S')\n",
      "        Find start/goal in a maze and returns the first one. \n",
      "        Caution: there is no error checking!\n",
      "        \n",
      "        Parameters:\n",
      "        maze: a array with characters prodced by parse_maze()\n",
      "        what: the letter to be found ('S' for start and 'G' for goal)\n",
      "        \n",
      "        Returns:\n",
      "        a tupple (x, y) for the found position.\n",
      "    \n",
      "    look(maze, pos)\n",
      "        Look at the label of a square with the position as an array of the form (x, y).\n",
      "    \n",
      "    parse_maze(maze_str)\n",
      "        Convert a maze as a string into a 2d numpy array\n",
      "    \n",
      "    show_maze(maze, fontsize=10)\n",
      "        Display a (parsed) maze as an image.\n",
      "    \n",
      "    welcome()\n",
      "        Welcome message.\n",
      "\n",
      "FILE\n",
      "    /Users/christiangould/fall_2022/ai/program_2/maze_helper.py\n",
      "\n",
      "\n"
     ]
    }
   ],
   "source": [
    "help(mh)"
   ]
  },
  {
   "cell_type": "markdown",
   "metadata": {},
   "source": [
    "## Tree structure\n",
    "\n",
    "Here is an implementation of the basic node structure for the search algorithms (see Fig 3.7 on page 73). I have added a method that extracts the path from the root node to the current node. It can be used to get the path when the search is completed."
   ]
  },
  {
   "cell_type": "code",
   "execution_count": 388,
   "metadata": {},
   "outputs": [],
   "source": [
    "class Node:\n",
    "    def __init__(self, pos, parent, action, cost):\n",
    "        self.pos = tuple(pos)    # the state; positions are (row,col)\n",
    "        self.parent = parent     # reference to parent node. None means root node.\n",
    "        self.action = action     # action used in the transition function (root node has None)\n",
    "        self.cost = cost         # for uniform cost this is the depth. It is also g(n) for A* search\n",
    "\n",
    "    def __str__(self):\n",
    "        return f\"Node - pos = {self.pos}; action = {self.action}; cost = {self.cost}\"\n",
    "    \n",
    "    def get_path_from_root(self):\n",
    "        \"\"\"returns nodes on the path from the root to the current node.\"\"\"\n",
    "        node = self\n",
    "        path = [node]\n",
    "    \n",
    "        while not node.parent is None:\n",
    "            node = node.parent\n",
    "            path.append(node)\n",
    "        \n",
    "        path.reverse()\n",
    "        \n",
    "        return(path)"
   ]
  },
  {
   "cell_type": "markdown",
   "metadata": {},
   "source": [
    "If needed, then you can add more fields to the class like the heuristic value $h(n)$ or $f(n)$.\n",
    "\n",
    "Examples for how to create and use a tree and information on memory management can be found [here](../Python_Code_Examples/trees.ipynb)."
   ]
  },
  {
   "cell_type": "markdown",
   "metadata": {},
   "source": [
    "# Tasks\n",
    "\n",
    "The goal is to:\n",
    "\n",
    "1. Implement the following search algorithms for solving different mazes:\n",
    "\n",
    "    - Breadth-first search (BFS)\n",
    "    - Depth-first search (DFS)\n",
    "    - Greedy best-first search (GBFS)\n",
    "    - A* search\n",
    "\n",
    "2. Run each of the above algorithms on the \n",
    "    - [small maze](small_maze.txt), \n",
    "    - [medium maze](medium_maze.txt), \n",
    "    - [large maze](large_maze.txt), \n",
    "    - [open maze](open_maze.txt),\n",
    "    - [wall maze](wall_maze.txt),\n",
    "    - [loops maze](loops_maze.txt),\n",
    "    - [empty maze](empty_maze.txt), and\n",
    "    - [empty 2_maze](empty_2_maze.txt).\n",
    "    \n",
    "3. For each problem instance and each search algorithm, report the following in a table:\n",
    "\n",
    "    - The solution and its path cost\n",
    "    - Total number of nodes expanded\n",
    "    - Maximum tree depth\n",
    "    - Maximum size of the frontier\n",
    "\n",
    "4. Display each solution by marking every maze square (or state) visited and the squares on the final path.\n",
    "\n",
    "## General [10 Points]\n",
    "\n",
    "1. Make sure that you use the latest version of this notebook. Sync your forked repository and pull the latest revision. \n",
    "2. Your implementation can use libraries like math, numpy, scipy, but not libraries that implement inteligent agents or complete search algorithms. Try to keep the code simple! In this course, we want to learn about the algorithms and we often do not need to use object-oriented design.\n",
    "3. You notebook needs to be formated professionally. \n",
    "    - Add additional markdown blocks for your description, comments in the code, add tables and use mathplotlib to produce charts where appropriate\n",
    "    - Do not show debugging output or include an excessive amount of output.\n",
    "    - Check that your PDF file is readable. For example, long lines are cut off in the PDF file. You don't have control over page breaks, so do not worry about these.\n",
    "4. Document your code. Add a short discussion of how your implementation works and your design choices."
   ]
  },
  {
   "cell_type": "markdown",
   "metadata": {},
   "source": [
    "## Task 1: Defining the search problem and determining the problem size [10 Points]\n",
    "\n",
    "Define the components of the search problem:\n",
    "\n",
    "* Initial state\n",
    "* Actions\n",
    "* Transition model\n",
    "* Goal state\n",
    "* Path cost\n",
    "\n",
    "Use verbal descriptions, variables and equations as appropriate. \n",
    "\n",
    "*Note:* You can swich the next block from code to Markdown and use formating."
   ]
  },
  {
   "cell_type": "markdown",
   "metadata": {},
   "source": [
    "### Initial State\n",
    "* Initial state is the starting position of the agent in the maze. The agent starts at the starting position of the maze. The starting position is denoted by the letter 'S' in the maze.\n",
    "\n",
    "### Actions\n",
    "* The agent can move in four directions: up, down, left, and right. The agent can only move to a square that is not a wall. The agent cannot move diagonally. The agent can move to a square that is a goal. The agent can move to a square that is a path. The agent cannot move to a square that is a wall. The agent cannot move to a square that is a visited square within its path.\n",
    "\n",
    "### Transition Model\n",
    "* Since the transition model is just the agent moving from its current state to the next state closer to the goal state, the transition model is going to be just moving from the current state to the next state using the different algorithms above.\n",
    "\n",
    "### Goal State\n",
    "* The goal state is when the agent reaches the goal position in the maze. The goal position is denoted by the letter 'G' in the maze.\n",
    "\n",
    "### Path Cost\n",
    "* The path cost in this situation is the number of spaces moved. There is no weight to the spaces, so the path cost is just the number of spaces moved."
   ]
  },
  {
   "cell_type": "markdown",
   "metadata": {},
   "source": [
    "Give some estimates for the problem size:\n",
    "\n",
    "* $n$: state space size\n",
    "* $d$: depth of the optimal solution\n",
    "* $m$: maximum depth of tree\n",
    "* $b$: maximum branching factor\n",
    "\n",
    "Describe how you would determine these values for a given maze."
   ]
  },
  {
   "cell_type": "markdown",
   "metadata": {},
   "source": [
    "### State Space Size\n",
    "* The state space size is the number of possible states that the agent can be in. The state space size is the number of spaces in the maze that are not walls.\n",
    "\n",
    "### Depth of the Optimal Solition\n",
    "* The depth of the optimal solution is the number of spaces moved to reach the goal.\n",
    "\n",
    "### Maximum Depth of Tree\n",
    "* The maximum depth of the tree is the worst-case possibility of how many spaces the agent can move before reaching the goal. In the case of a maze, the maximum depth of the tree is the number of spaces in the maze that are not walls.\n",
    "\n",
    "### Maximum Branching Factor\n",
    "* The maximum branching factor is the maximum number of spaces that the agent can move to from a given space. In the case of a maze, the maximum branching factor is 4."
   ]
  },
  {
   "cell_type": "markdown",
   "metadata": {},
   "source": [
    "## Task 2: Uninformed search: Breadth-first and depth-first [40 Points]\n",
    "\n",
    "Implement these search strategies. Follow the pseudocode in the textbook/slides. You can use the tree structure shown above to extract the final path from your solution.\n",
    "\n",
    "__Notes:__\n",
    "* You can find maze solving implementations online that use the map to store information. While this is an effective idea for this two-dimensional navigation problem, it typically cannot be used for other search problems. Therefore, follow the textbook and only store information in the tree created during search, and use the `reached` and `frontier` data structures.\n",
    "* DSF can be implemented using the BFS tree search algorithm and simply changing the order in which the frontier is expanded (this is equivalent to best-first search with path length as the criterion to expand the next node). However, to take advantage of the significantly smaller memory footprint of DFS, you need to implement DFS in a different way without a `reached` data structure and by releasing the memory for nodes that are not needed anymore. \n",
    "* If DFS does not use a `reached` data structure, then its cycle checking abilities are limited. Remember, that DSF is incomplete if cycles cannot be prevented. You will see in your experiments that open spaces are a problem."
   ]
  },
  {
   "cell_type": "markdown",
   "metadata": {},
   "source": [
    "# Specific functions to check possible directions from a given position"
   ]
  },
  {
   "cell_type": "code",
   "execution_count": 389,
   "metadata": {},
   "outputs": [],
   "source": [
    "def check_up(pos, maze):\n",
    "    \"\"\"Check if there is a wall in the up direction.\n",
    "    Returns True if there is a wall, False otherwise.\"\"\"\n",
    "    if mh.look(maze, (pos[0]-1,pos[1])) == 'X':\n",
    "        return False\n",
    "    else:\n",
    "        return True\n",
    "\n",
    "def check_down(pos, maze):\n",
    "    \"\"\"Check if there is a wall in the down direction.\n",
    "    Returns True if there is a wall, False otherwise.\"\"\"\n",
    "    if mh.look(maze, (pos[0]+1, pos[1])) == 'X':\n",
    "        return False\n",
    "    else:\n",
    "        return True\n",
    "\n",
    "def check_left(pos, maze):\n",
    "    \"\"\"Check if there is a wall in the left direction.\n",
    "    Returns True if there is a wall, False otherwise.\"\"\"\n",
    "    if mh.look(maze, (pos[0], pos[1]-1)) == 'X':\n",
    "        return False\n",
    "    else:\n",
    "        return True\n",
    "\n",
    "def check_right(pos, maze):\n",
    "    \"\"\"Check if there is a wall in the right direction.\n",
    "    Returns True if there is a wall, False otherwise.\"\"\"\n",
    "    if mh.look(maze, (pos[0], pos[1]+1)) == 'X':\n",
    "        return False\n",
    "    else:\n",
    "        return True"
   ]
  },
  {
   "cell_type": "markdown",
   "metadata": {},
   "source": [
    "# Helper function to determine which actions are possible from a given position"
   ]
  },
  {
   "cell_type": "code",
   "execution_count": 390,
   "metadata": {},
   "outputs": [],
   "source": [
    "def get_actions(pos, maze):\n",
    "    \"\"\"Returns a list of actions that can be taken from the current position.\"\"\"\n",
    "    actions = []\n",
    "    if check_up(pos, maze):\n",
    "        actions.append(\"up\")\n",
    "    if check_down(pos, maze):\n",
    "        actions.append(\"down\")\n",
    "    if check_left(pos, maze):\n",
    "        actions.append(\"left\")\n",
    "    if check_right(pos, maze):\n",
    "        actions.append(\"right\")\n",
    "    return(actions)"
   ]
  },
  {
   "cell_type": "markdown",
   "metadata": {},
   "source": [
    "# Helper function to get the new position after an action"
   ]
  },
  {
   "cell_type": "code",
   "execution_count": 391,
   "metadata": {},
   "outputs": [],
   "source": [
    "def get_new_pos(pos, action):\n",
    "    \"\"\"Returns the new position after taking the action.\"\"\"\n",
    "    new_pos = list(pos)\n",
    "    if action == \"up\":\n",
    "        new_pos[0] -= 1\n",
    "    elif action == \"down\":\n",
    "        new_pos[0] += 1\n",
    "    elif action == \"left\":\n",
    "        new_pos[1] -= 1\n",
    "    elif action == \"right\":\n",
    "        new_pos[1] += 1\n",
    "    return(tuple(new_pos))"
   ]
  },
  {
   "cell_type": "markdown",
   "metadata": {},
   "source": [
    "# Cycle detection for DFS"
   ]
  },
  {
   "cell_type": "code",
   "execution_count": 392,
   "metadata": {},
   "outputs": [],
   "source": [
    "def detect_cycle(node, new_pos):\n",
    "    \"\"\"Returns True if the new position is already in the path from the root to the current node.\"\"\"\n",
    "    while not node.parent is None:\n",
    "        node = node.parent\n",
    "        if node.pos == new_pos:\n",
    "            return True\n",
    "    return False"
   ]
  },
  {
   "cell_type": "markdown",
   "metadata": {},
   "source": [
    "# Helper functions to change the symbols in the maze"
   ]
  },
  {
   "cell_type": "code",
   "execution_count": 393,
   "metadata": {},
   "outputs": [],
   "source": [
    "def change_symbol(maze, pos, newSymbol):\n",
    "    \"\"\"Change the symbol at a given position.\"\"\"\n",
    "\n",
    "    x, y = pos\n",
    "    maze[x, y] = newSymbol\n",
    "\n",
    "def add_visited(maze, pos):\n",
    "  if mh.look(maze, pos) != 'X':\n",
    "    change_symbol(maze, pos, '.')\n",
    "\n",
    "def add_frontier(maze, pos):\n",
    "  if mh.look(maze, pos) == ' ':\n",
    "    change_symbol(maze, pos, 'F')"
   ]
  },
  {
   "cell_type": "markdown",
   "metadata": {},
   "source": [
    "# Helper function to set the final path taken"
   ]
  },
  {
   "cell_type": "code",
   "execution_count": 404,
   "metadata": {},
   "outputs": [],
   "source": [
    "def set_final_path(maze, final_path):\n",
    "  startLocation = mh.find_pos(maze, what=\"S\")\n",
    "  goalLocation = mh.find_pos(maze, what=\"G\")\n",
    "  for node in final_path:\n",
    "    if node.pos != startLocation and node.pos != goalLocation:\n",
    "      change_symbol(maze, node.pos, 'P')"
   ]
  },
  {
   "cell_type": "markdown",
   "metadata": {},
   "source": [
    "# The DFS algorithm"
   ]
  },
  {
   "cell_type": "code",
   "execution_count": 395,
   "metadata": {},
   "outputs": [],
   "source": [
    "from maze_helper import show_maze\n",
    "\n",
    "def dfs_search(maze, start, goal, debug=False):\n",
    "    # create a stack for the frontier\n",
    "    frontier = []\n",
    "\n",
    "    # create the root node (position, parent, action, cost)\n",
    "    root = Node(start, None, None, 0)\n",
    "\n",
    "    # add the root node to the frontier\n",
    "    frontier.append(root)\n",
    "\n",
    "    # loop until the frontier is empty\n",
    "    while len(frontier) > 0:\n",
    "        # Print each iteration of the maze\n",
    "        if debug:\n",
    "            show_maze(maze)\n",
    "        # get the last node from the frontier\n",
    "        node = frontier.pop()\n",
    "\n",
    "        # check if the node is the goal\n",
    "        # if it is, return the path from the root to the goal\n",
    "        if node.pos == goal:\n",
    "            return node.get_path_from_root()\n",
    "\n",
    "        # add the node to the explored set\n",
    "        if node.parent is not None:\n",
    "            add_visited(maze, node.pos)\n",
    "\n",
    "        # get the possible actions from the current node\n",
    "        actions = get_actions(node.pos, maze)        \n",
    "\n",
    "        # loop through the actions\n",
    "        for action in actions:\n",
    "            # get the new position from the action\n",
    "            new_pos = get_new_pos(node.pos, action)\n",
    "\n",
    "            # make sure the new position is not already visited\n",
    "            if (detect_cycle(node, new_pos)):\n",
    "                continue\n",
    "\n",
    "            # create a new node\n",
    "            new_node = Node(new_pos, node, action, node.cost + 1)\n",
    "\n",
    "            # For graph purposes, add the node to the frontier\n",
    "            add_frontier(maze, new_node.pos)\n",
    "\n",
    "            # add the new node to the frontier\n",
    "            frontier.append(new_node)\n"
   ]
  },
  {
   "cell_type": "markdown",
   "metadata": {},
   "source": [
    "# Running DFS on the small maze"
   ]
  },
  {
   "cell_type": "code",
   "execution_count": 407,
   "metadata": {},
   "outputs": [
    {
     "data": {
      "image/png": "[encoded data removed]",
      "text/plain": [
       "<Figure size 432x288 with 1 Axes>"
      ]
     },
     "metadata": {
      "image/png": {
       "height": 183,
       "width": 362
      },
      "needs_background": "light"
     },
     "output_type": "display_data"
    },
    {
     "data": {
      "image/png": "[encoded data removed]",
      "text/plain": [
       "<Figure size 432x288 with 1 Axes>"
      ]
     },
     "metadata": {
      "image/png": {
       "height": 183,
       "width": 362
      },
      "needs_background": "light"
     },
     "output_type": "display_data"
    }
   ],
   "source": [
    "import maze_helper as mh\n",
    "maze = mh.parse_maze(maze_str)\n",
    "\n",
    "# The maze before\n",
    "show_maze(maze)\n",
    "\n",
    "startLocation = mh.find_pos(maze, what = \"S\")\n",
    "goalLocation = mh.find_pos(maze, what = \"G\")\n",
    "final_dfs = dfs_search(maze, startLocation, goalLocation)\n",
    "\n",
    "set_final_path(maze, final_dfs)\n",
    "\n",
    "# The maze after\n",
    "show_maze(maze)"
   ]
  },
  {
   "cell_type": "markdown",
   "metadata": {},
   "source": [
    "# The BFS algorithm"
   ]
  },
  {
   "cell_type": "code",
   "execution_count": 397,
   "metadata": {},
   "outputs": [],
   "source": [
    "def bfs_search(maze, start, goal, debug=False):\n",
    "  # Create a queue for the frontier\n",
    "  frontier = []\n",
    "\n",
    "  # Create a set for the explored nodes\n",
    "  visited = set()\n",
    "  \n",
    "  # Create the root node (position, parent, action, cost)\n",
    "  root = Node(start, None, None, 0)\n",
    "  \n",
    "  # Add the root node to the frontier\n",
    "  frontier.append(root)\n",
    "\n",
    "  # Loop until the frontier is empty\n",
    "  while len(frontier) > 0:\n",
    "    if debug:\n",
    "      show_maze(maze)\n",
    "\n",
    "    # Get the first node from the frontier\n",
    "    node = frontier.pop(0)\n",
    "\n",
    "    # Check if the node is the goal\n",
    "    # If it is, return the path from the root to the goal\n",
    "    if node.pos == goal:\n",
    "      return node.get_path_from_root()\n",
    "\n",
    "    # Add the node to the explored set\n",
    "    visited.add(node.pos)\n",
    "\n",
    "    # Add the graphing for visited nodes\n",
    "    if node.parent is not None:\n",
    "      add_visited(maze, node.pos)\n",
    "\n",
    "    # Get the possible actions from the current node\n",
    "    actions = get_actions(node.pos, maze)\n",
    "    \n",
    "    # Loop through the actions\n",
    "    for action in actions:\n",
    "      # get the new position from the action\n",
    "      new_pos = get_new_pos(node.pos, action)\n",
    "\n",
    "      # Make sure the new position is not already visited\n",
    "      if (new_pos in visited):\n",
    "        continue\n",
    "\n",
    "      # Create a new node\n",
    "      new_node = Node(new_pos, node, action, node.cost + 1)\n",
    "      \n",
    "      # For graph purposes, add the node to the frontier\n",
    "      add_frontier(maze, new_node.pos)\n",
    "\n",
    "      # Add the new node to the frontier\n",
    "      frontier.append(new_node)\n"
   ]
  },
  {
   "cell_type": "markdown",
   "metadata": {},
   "source": [
    "# Running BFS on the small maze"
   ]
  },
  {
   "cell_type": "code",
   "execution_count": 406,
   "metadata": {},
   "outputs": [
    {
     "data": {
      "image/png": "[encoded data removed]",
      "text/plain": [
       "<Figure size 432x288 with 1 Axes>"
      ]
     },
     "metadata": {
      "image/png": {
       "height": 183,
       "width": 362
      },
      "needs_background": "light"
     },
     "output_type": "display_data"
    },
    {
     "data": {
      "image/png": "[encoded data removed]",
      "text/plain": [
       "<Figure size 432x288 with 1 Axes>"
      ]
     },
     "metadata": {
      "image/png": {
       "height": 183,
       "width": 362
      },
      "needs_background": "light"
     },
     "output_type": "display_data"
    }
   ],
   "source": [
    "import maze_helper as mh\n",
    "maze = mh.parse_maze(maze_str)\n",
    "\n",
    "# The maze before\n",
    "show_maze(maze)\n",
    "\n",
    "startLocation = mh.find_pos(maze, what=\"S\")\n",
    "goalLocation = mh.find_pos(maze, what=\"G\")\n",
    "final_bfs = bfs_search(maze, startLocation, goalLocation)\n",
    "\n",
    "set_final_path(maze, final_bfs)\n",
    "\n",
    "# The maze after\n",
    "show_maze(maze)\n"
   ]
  },
  {
   "cell_type": "markdown",
   "metadata": {},
   "source": [
    "How does BFS and DFS deal with loops (cycles)?"
   ]
  },
  {
   "cell_type": "markdown",
   "metadata": {},
   "source": [
    "# Discussion\n",
    "### DFS Loops\n",
    "* DFS loops are dealth with in a manner that saves as much space complexity as possible. Whenever the algorithms goes to add another node, before it does, it checks to make sure that the node has not been visited in the current tree.\n",
    "\n",
    "### BFS Loops\n",
    "* BFS loops are dealt with by adding the node to the frontier if it has not been visited yet. If it has been visited, then it is not added to the frontier. That way we never come back to another node that we have already visited."
   ]
  },
  {
   "cell_type": "markdown",
   "metadata": {},
   "source": [
    "Are your implementations complete and optimal? Explain why. What is the time and space complexity of each of **your** implementations?"
   ]
  },
  {
   "cell_type": "markdown",
   "metadata": {},
   "source": [
    "# Implementation Details\n",
    "### DFS\n",
    "* My DFS implementation is not optimal, since an optimal DFS implementation should have a time complexity of O(N) in the case of a maze with equal weights of 0\n",
    "\n",
    "* My DFS implementation uses O(B^M), where B is the branching factor, and M is the maximum depth of the tree. This means, that in the worst case, the algorithm will be O(4^N), where N is the number of nodes in the tree. \n",
    "\n",
    "* My DFS implementation uses O(N) space complexity, where N is the number of nodes in the tree. This is because the algorithm, in the worst case, will store every node in the frontier.\n",
    "\n",
    "### BFS\n",
    "* My BFS implementation is optimal, since in a maze with equal weights of 0, the time complexity should be O(N) and the space complexity should be O(N).\n",
    "* My BFS implementation uses O(N) space complexity, where N is the number of nodes in the tree. This is because the algorithm, in the worst case, will store every node in the frontier.\n",
    "\n",
    "* My BFS implementation uses O(N) time complexity, where N is the number of nodes in the tree. This is because the algorithm, in the worst case, will have to visit every node in the tree.\n",
    "\n",
    "### DFS vs BFS\n",
    "* Though these numbers appear to sway very heavily in the favor of BFS, DFS has a much better best-case scenario, where it can be O(1) in the case of a maze with a branching factor of 1. This is because DFS will only have to visit one node, and then it will be done. BFS, on the other hand, will have to visit every node in the tree, which is O(N) in the worst case."
   ]
  },
  {
   "cell_type": "markdown",
   "metadata": {},
   "source": [
    "## Task 3: Informed search: Implement greedy best-first search and A* search  [20 Points]\n",
    "\n",
    "You can use the map to estimate the distance from your current position to the goal using the Manhattan distance (see https://en.wikipedia.org/wiki/Taxicab_geometry) as a heuristic function. Both algorithms are based on Best-First search which requires only a small change from the BFS algorithm you have already implemented (see textbook/slides). "
   ]
  },
  {
   "cell_type": "markdown",
   "metadata": {},
   "source": [
    "# Helper function to get the manhattan distance"
   ]
  },
  {
   "cell_type": "code",
   "execution_count": 410,
   "metadata": {},
   "outputs": [],
   "source": [
    "# Your code goes here\n",
    "def get_manhattan_distance(pos1, pos2):\n",
    "  return abs(pos1[0] - pos2[0]) + abs(pos1[1] - pos2[1])"
   ]
  },
  {
   "cell_type": "markdown",
   "metadata": {},
   "source": [
    "# A* Search Algorithm"
   ]
  },
  {
   "cell_type": "code",
   "execution_count": 411,
   "metadata": {},
   "outputs": [],
   "source": [
    "def a_star_search(maze, start, goal, debug=False):\n",
    "  # Create a queue for the frontier\n",
    "  frontier = []\n",
    "\n",
    "  # Create a set for the explored nodes\n",
    "  visited = set()\n",
    "  \n",
    "  # Create the root node (position, parent, action, cost)\n",
    "  root = Node(start, None, None, 0)\n",
    "  \n",
    "  # Add the root node to the frontier\n",
    "  frontier.append(root)\n",
    "\n",
    "  # Loop until the frontier is empty\n",
    "  while len(frontier) > 0:\n",
    "    if debug:\n",
    "      show_maze(maze)\n",
    "\n",
    "    # Get the first node from the frontier\n",
    "    node = frontier.pop(0)\n",
    "\n",
    "    # Check if the node is the goal\n",
    "    # If it is, return the path from the root to the goal\n",
    "    if node.pos == goal:\n",
    "      return node.get_path_from_root()\n",
    "\n",
    "    # Add the node to the explored set\n",
    "    visited.add(node.pos)\n",
    "\n",
    "    # Add the graphing for visited nodes\n",
    "    if node.parent is not None:\n",
    "      add_visited(maze, node.pos)\n",
    "\n",
    "    # Get the possible actions from the current node\n",
    "    actions = get_actions(node.pos, maze)\n",
    "    \n",
    "    # Loop through the actions\n",
    "    for action in actions:\n",
    "      # get the new position from the action\n",
    "      new_pos = get_new_pos(node.pos, action)\n",
    "\n",
    "      # Make sure the new position is not already visited\n",
    "      if (new_pos in visited):\n",
    "        continue\n",
    "\n",
    "      # Create a new node\n",
    "      new_node = Node(new_pos, node, action, node.cost + 1)\n",
    "\n",
    "      # Add the heuristic to the cost\n",
    "      new_node.cost += get_manhattan_distance(new_node.pos, goal)\n",
    "\n",
    "      # For graph purposes, add the node to the frontier\n",
    "      add_frontier(maze, new_node.pos)\n",
    "\n",
    "      # Add the new node to the frontier\n",
    "      frontier.append(new_node)\n",
    "\n",
    "    # Sort the frontier by cost\n",
    "    frontier.sort(key=lambda x: x.cost)"
   ]
  },
  {
   "cell_type": "markdown",
   "metadata": {},
   "source": [
    "# Run the A* Search"
   ]
  },
  {
   "cell_type": "code",
   "execution_count": 414,
   "metadata": {},
   "outputs": [
    {
     "data": {
      "image/png": "[encoded data removed]",
      "text/plain": [
       "<Figure size 432x288 with 1 Axes>"
      ]
     },
     "metadata": {
      "image/png": {
       "height": 183,
       "width": 362
      },
      "needs_background": "light"
     },
     "output_type": "display_data"
    },
    {
     "data": {
      "image/png": "[encoded data removed]",
      "text/plain": [
       "<Figure size 432x288 with 1 Axes>"
      ]
     },
     "metadata": {
      "image/png": {
       "height": 183,
       "width": 362
      },
      "needs_background": "light"
     },
     "output_type": "display_data"
    }
   ],
   "source": [
    "import maze_helper as mh\n",
    "maze = mh.parse_maze(maze_str)\n",
    "\n",
    "# The maze before\n",
    "show_maze(maze)\n",
    "\n",
    "startLocation = mh.find_pos(maze, what=\"S\")\n",
    "goalLocation = mh.find_pos(maze, what=\"G\")\n",
    "final_aStar = a_star_search(maze, startLocation, goalLocation)\n",
    "\n",
    "set_final_path(maze, final_aStar)\n",
    "\n",
    "# The maze after\n",
    "show_maze(maze)"
   ]
  },
  {
   "cell_type": "markdown",
   "metadata": {},
   "source": [
    "# Greedy Best-First Search Algorithm"
   ]
  },
  {
   "cell_type": "code",
   "execution_count": null,
   "metadata": {},
   "outputs": [],
   "source": [
    "def greedy_Best_First_Search(maze, start, goal, debug=False):\n",
    "  # Create a queue for the frontier\n",
    "  frontier = []\n",
    "\n",
    "  # Create a set for the explored nodes\n",
    "  visited = set()\n",
    "  \n",
    "  # Create the root node (position, parent, action, cost)\n",
    "  root = Node(start, None, None, 0)\n",
    "  \n",
    "  # Add the root node to the frontier\n",
    "  frontier.append(root)\n",
    "\n",
    "  # Loop until the frontier is empty\n",
    "  while len(frontier) > 0:\n",
    "    if debug:\n",
    "      show_maze(maze)\n",
    "\n",
    "    # Get the first node from the frontier\n",
    "    node = frontier.pop(0)\n",
    "\n",
    "    # Check if the node is the goal\n",
    "    # If it is, return the path from the root to the goal\n",
    "    if node.pos == goal:\n",
    "      return node.get_path_from_root()\n",
    "\n",
    "    # Add the node to the explored set\n",
    "    visited.add(node.pos)\n",
    "\n",
    "    # Add the graphing for visited nodes\n",
    "    if node.parent is not None:\n",
    "      add_visited(maze, node.pos)\n",
    "\n",
    "    # Get the possible actions from the current node\n",
    "    actions = get_actions(node.pos, maze)\n",
    "    \n",
    "    # Loop through the actions\n",
    "    for action in actions:\n",
    "      # get the new position from the action\n",
    "      new_pos = get_new_pos(node.pos, action)\n",
    "\n",
    "      # Make sure the new position is not already visited\n",
    "      if (new_pos in visited):\n",
    "        continue\n",
    "\n",
    "      # Create a new node\n",
    "      new_node = Node(new_pos, node, action, get_manhattan_distance(new_node.pos, goal))\n",
    "\n",
    "      # For graph purposes, add the node to the frontier\n",
    "      add_frontier(maze, new_node.pos)\n",
    "\n",
    "      # Add the new node to the frontier\n",
    "      frontier.append(new_node)\n",
    "\n",
    "    # Sort the frontier by cost\n",
    "    frontier.sort(key=lambda x: x.cost)"
   ]
  },
  {
   "cell_type": "markdown",
   "metadata": {},
   "source": [
    "# Run the Greedy Best-First Search"
   ]
  },
  {
   "cell_type": "code",
   "execution_count": null,
   "metadata": {},
   "outputs": [],
   "source": []
  },
  {
   "cell_type": "markdown",
   "metadata": {},
   "source": [
    "Are your implementations complete and optimal? What is the time and space complexity?"
   ]
  },
  {
   "cell_type": "code",
   "execution_count": null,
   "metadata": {},
   "outputs": [],
   "source": [
    "# Discussion"
   ]
  },
  {
   "cell_type": "markdown",
   "metadata": {},
   "source": [
    "## Task 4: Comparison and discussion [20 Points] \n",
    "\n",
    "Run experiments to compare the implemented algorithms.\n",
    "\n",
    "How to deal with issues:\n",
    "\n",
    "* Your implementation returns unexpected results: Try to debug and fix the code. Visualizing the maze, the current path and the frontier after every step is very helpful. If the code still does not work, then mark the result with an asterisk (*) and describe the issue below the table.\n",
    "\n",
    "* Your implementation cannot consistently solve a specific maze and ends up in an infinite loop:\n",
    "    Debug. If it is a shortcoming of the algorithm/implementation, then put \"N/A*\" in the results table and describe why this is happening."
   ]
  },
  {
   "cell_type": "code",
   "execution_count": null,
   "metadata": {},
   "outputs": [],
   "source": [
    "# Add code"
   ]
  },
  {
   "cell_type": "markdown",
   "metadata": {},
   "source": [
    "Complete the following table for each maze.\n",
    "\n",
    "__Small maze__\n",
    "\n",
    "| algorithm | path cost | # of nodes expanded | max tree depth | max # of nodes in memory | max frontier size |\n",
    "|-----------|-----------|----------------|----------------|---------------|-------------------|\n",
    "| BFS       |           |                |                |               |                   |\n",
    "| DFS       |           |                |                |               |                   |\n",
    "| GBS       |           |                |                |               |                   |\n",
    "| A*        |           |                |                |               |                   |\n",
    "\n",
    "__Medium Maze__\n",
    "\n",
    "..."
   ]
  },
  {
   "cell_type": "markdown",
   "metadata": {},
   "source": [
    "Present the results as using charts (see [Python Code Examples/charts and tables](../Python_Code_Examples/charts_and_tables.ipynb)). "
   ]
  },
  {
   "cell_type": "code",
   "execution_count": null,
   "metadata": {},
   "outputs": [],
   "source": [
    "# Add charts"
   ]
  },
  {
   "cell_type": "markdown",
   "metadata": {},
   "source": [
    "Discuss the most important lessons you have learned from implementing the different search strategies. "
   ]
  },
  {
   "cell_type": "code",
   "execution_count": null,
   "metadata": {},
   "outputs": [],
   "source": [
    "# Add discussion"
   ]
  },
  {
   "cell_type": "markdown",
   "metadata": {},
   "source": [
    "## Graduate student advanced task: IDS and Multiple goals [10 Points]\n",
    "\n",
    "__Undergraduate students:__ This is a bonus task you can attempt if you like [+5 Bonus Points].\n",
    "\n",
    "Create a few mazes with multiple goals by adding one or two more goals to the medium size maze.\n",
    "Solve the maze with your implementations for DFS, BFS, and implement in addition IDS (iterative deepening search using DFS). \n",
    "\n",
    "Run experiments to show which implementations find the optimal solution and which do not. Discuss why that is the case."
   ]
  },
  {
   "cell_type": "code",
   "execution_count": null,
   "metadata": {},
   "outputs": [],
   "source": [
    "# Your code/answer goes here"
   ]
  },
  {
   "cell_type": "markdown",
   "metadata": {},
   "source": [
    "## More advanced tasks to think about\n",
    "\n",
    "Instead of defining each square as a state, use only intersections as states. Now the storage requirement is reduced, but the path length between two intersections can be different. If we use total path length measured as the number of squares as path cost, how can we make sure that BFS and iterative deepening search is optimal? Change the code to do so."
   ]
  },
  {
   "cell_type": "code",
   "execution_count": null,
   "metadata": {},
   "outputs": [],
   "source": [
    "# Your code/answer goes here"
   ]
  },
  {
   "cell_type": "markdown",
   "metadata": {},
   "source": [
    "Modify your A* search to add weights (see text book) and explore how different weights influence the result."
   ]
  },
  {
   "cell_type": "code",
   "execution_count": null,
   "metadata": {},
   "outputs": [],
   "source": [
    "# Your code/answer goes here"
   ]
  },
  {
   "cell_type": "markdown",
   "metadata": {},
   "source": [
    "What happens if the agent does not know the layout of the maze in advance (i.e., faces an unkown, only partially observable environment)? How does the environment look then (PEAS description)? How would you implement a rational agent to solve the maze? What if the agent still has a GPS device to tell the distance to the goal?"
   ]
  },
  {
   "cell_type": "code",
   "execution_count": null,
   "metadata": {},
   "outputs": [],
   "source": [
    "# Your code/answer goes here"
   ]
  }
 ],
 "metadata": {
  "kernelspec": {
   "display_name": "Python 3.9.12 64-bit",
   "language": "python",
   "name": "python3"
  },
  "language_info": {
   "codemirror_mode": {
    "name": "ipython",
    "version": 3
   },
   "file_extension": ".py",
   "mimetype": "text/x-python",
   "name": "python",
   "nbconvert_exporter": "python",
   "pygments_lexer": "ipython3",
   "version": "3.9.12"
  },
  "vscode": {
   "interpreter": {
    "hash": "b0fa6594d8f4cbf19f97940f81e996739fb7646882a419484c72d19e05852a7e"
   }
  }
 },
 "nbformat": 4,
 "nbformat_minor": 4
}
